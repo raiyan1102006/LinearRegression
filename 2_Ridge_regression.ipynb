{
 "cells": [
  {
   "cell_type": "markdown",
   "metadata": {},
   "source": [
    "By Raiyan Abdul Baten\n",
    "\n",
    "University of Rochester, NY, USA\n",
    "\n",
    "Mail: raiyanabdulbaten@gmail.com"
   ]
  },
  {
   "cell_type": "markdown",
   "metadata": {},
   "source": [
    "# Ridge Regression \n",
    "## Implementation and Cheat Sheet\n",
    "\n",
    "This page documents the summary theory and implementation of ridge regression. In particular, it covers:\n",
    "\n",
    "- Ridge regression\n",
    "- k-fold cross validation to find best l2-penalty"
   ]
  },
  {
   "cell_type": "code",
   "execution_count": 1,
   "metadata": {},
   "outputs": [],
   "source": [
    "import pandas as pd\n",
    "import os\n",
    "import numpy as np\n",
    "import re\n",
    "import csv\n",
    "from IPython.display import display, Math, Latex\n",
    "from sklearn import datasets, linear_model\n",
    "from sklearn.utils import shuffle\n",
    "import matplotlib.pyplot as plt\n",
    "%matplotlib inline\n",
    "\n",
    "def load_csv_data(folder_name, file_name, dtype_dict=None):\n",
    "    csv_path = os.path.join(folder_name, file_name+\".csv\")\n",
    "    return pd.read_csv(csv_path, dtype=dtype_dict)"
   ]
  },
  {
   "cell_type": "markdown",
   "metadata": {},
   "source": [
    "# Loading data"
   ]
  },
  {
   "cell_type": "code",
   "execution_count": 2,
   "metadata": {},
   "outputs": [],
   "source": [
    "dtype_dict = {'bathrooms':float, 'waterfront':int, 'sqft_above':int, \\\n",
    "              'sqft_living15':float, 'grade':int, 'yr_renovated':int, \\\n",
    "              'price':float, 'bedrooms':float, 'zipcode':str, \\\n",
    "              'long':float, 'sqft_lot15':float, 'sqft_living':float, \\\n",
    "              'floors':str, 'condition':int, 'lat':float, 'date':str, \\\n",
    "              'sqft_basement':int, 'yr_built':int, 'id':str, 'sqft_lot':int, 'view':int}"
   ]
  },
  {
   "cell_type": "code",
   "execution_count": 3,
   "metadata": {},
   "outputs": [],
   "source": [
    "df_train_ridge = load_csv_data(\"data\",\"kc_house_train_data\",dtype_dict)\n",
    "df_test_ridge = load_csv_data(\"data\",\"kc_house_test_data\",dtype_dict)"
   ]
  },
  {
   "cell_type": "markdown",
   "metadata": {},
   "source": [
    "# Ridge Regression\n",
    "\n",
    "Regression model:\n",
    "\n",
    "\\begin{equation}\n",
    "\\mathbf{y}=\\mathbf{X}\\mathbf{w}+\\mathbf{\\epsilon},\n",
    "\\end{equation}\n",
    "where $\\mathbf{y}\\in \\mathbb{R}^{N\\times 1}, \\mathbf{X}\\in \\mathbb{R}^{N\\times p}, \\mathbf{w}\\in \\mathbb{R}^{p\\times 1},\\mathbf{\\epsilon}\\in \\mathbb{R}^{N\\times 1}$\n",
    "\n",
    "Total cost = measure of fit + measure of magnitude of coefficients = $\\text{RSS}(\\mathbf{w}) + \\lambda||\\mathbf{w}||_2^2$\n",
    "\n",
    "where $||\\mathbf{w}||_2^2 = w_0^2+w_1^2+...+w_{p-1}^2$. Here, $w_0$ is the intercept, and there are $p-1$ actual features, giving a total of $p$ features.\n",
    "\n",
    "Here,\n",
    "\\begin{equation}\n",
    " \\text{RSS}(\\mathbf{w}) = (\\mathbf{y}-\\mathbf{\\hat{y}})^\\text{T}(\\mathbf{y}-\\mathbf{\\hat{y}}) = (\\mathbf{y}-\\mathbf{X}\\mathbf{w})^\\text{T}(\\mathbf{y}-\\mathbf{X}\\mathbf{w})\n",
    "\\end{equation}\n",
    "\n",
    "and\n",
    "\n",
    "\\begin{equation}\n",
    " ||\\mathbf{w}||_2^2 = \\mathbf{w}^{\\text{T}}\\mathbf{w}\n",
    "\\end{equation}\n",
    "\n",
    "Therefore,\n",
    "\n",
    "\\begin{equation}\n",
    "\\text{Total cost} = (\\mathbf{y}-\\mathbf{X}\\mathbf{w})^\\text{T}(\\mathbf{y}-\\mathbf{X}\\mathbf{w}) + \\lambda \\mathbf{w}^{\\text{T}}\\mathbf{w}\n",
    "\\end{equation}\n",
    "\n",
    "Taking the gradient of the cost,\n",
    "\\begin{equation}\n",
    " \\nabla (\\text{RSS}(\\mathbf{w}) + \\lambda||\\mathbf{w}||_2^2) = \\nabla ((\\mathbf{y}-\\mathbf{X}\\mathbf{w})^\\text{T}(\\mathbf{y}-\\mathbf{X}\\mathbf{w}) + \\lambda \\mathbf{w}^{\\text{T}}\\mathbf{w}) \n",
    " \\end{equation}\n",
    " \\begin{equation}\n",
    " = -2\\mathbf{X}^\\text{T}(\\mathbf{y}-\\mathbf{X}\\mathbf{w}) + \\lambda (2 \\mathbf{w}) = -2\\mathbf{X}^\\text{T}(\\mathbf{y}-\\mathbf{X}\\mathbf{w}) + 2\\lambda \\mathbb{I}\\mathbf{w}\n",
    "\\end{equation}\n",
    "\n",
    "\n",
    "The closed form solution can be found by setting the gradient to 0:\n",
    "\n",
    "\n",
    "\\begin{equation}\n",
    " \\nabla (\\text{cost}(\\mathbf{\\hat{w}})) = \\nabla (-2\\mathbf{X}^\\text{T}(\\mathbf{y}-\\mathbf{X}\\mathbf{\\hat{w}}) + 2\\lambda \\mathbb{I}\\mathbf{\\hat{w}}) = 0 \n",
    "  \\end{equation}\n",
    " \\begin{equation}\n",
    " \\mathbf{\\hat{w}}^{\\text{ridge}} = (\\mathbf{X}^{\\text{T}}\\mathbf{X}+\\lambda \\mathbb{I})^{-1} \\mathbf{X}^{\\text{T}}\\mathbf{y}\n",
    "\\end{equation}\n",
    "\n",
    "However, we do not want to penalize the intercept $w_0$ for being large. Therefore, use a modified $\\mathbb{I}^{\\text{mod}} = \\begin{bmatrix}0 &  & & &\\\\  & 1 &  & & \\\\ &  & 1 &  &\\\\  &  &  & \\ddots & \\\\&  & & & 1 \\end{bmatrix}$, with $\\mathbb{I}\\in\\mathbb{R}^{p\\times p}$\n",
    "\n",
    "\n",
    "Using Gradient Descent:\n",
    "\n",
    "init $t=1, \\mathbf{w}^{(1)}=0$ or randomly or smartly\n",
    "\n",
    "while $||\\nabla \\text{RSS}(\\mathbf{w}^{(t)})||>$threshold:\n",
    "\n",
    "\\begin{equation}\n",
    "\\mathbf{w}^{(t+1)} <= \\mathbf{w}^{(t)} +2\\eta(\\mathbf{X}^\\text{T}(\\mathbf{y}-\\mathbf{X}\\mathbf{w}^{(t)})-\\lambda\\mathbb{I}^{\\text{mod}}\\mathbf{w})\\\\\n",
    "\\end{equation}"
   ]
  },
  {
   "cell_type": "code",
   "execution_count": 4,
   "metadata": {},
   "outputs": [],
   "source": [
    "def ridge_regression_gradient_descent(feature_matrix, target, initial_weights,\\\n",
    "                                      step_size, l2_penalty, max_iterations=100):\n",
    "    \n",
    "    weights = np.array(initial_weights)\n",
    "    I = np.identity(weights.size)\n",
    "    I[0][0]=0\n",
    "    for iteration in range(max_iterations):\n",
    "        gradient_RSS = -2*np.matmul(np.transpose(feature_matrix),target-np.matmul(feature_matrix,weights))\n",
    "        gradient_regularization = 2*l2_penalty*np.matmul(I,weights)\n",
    "        total_cost=gradient_RSS+gradient_regularization\n",
    "        weights = weights - step_size*total_cost\n",
    "    return(weights)"
   ]
  },
  {
   "cell_type": "code",
   "execution_count": 5,
   "metadata": {},
   "outputs": [],
   "source": [
    "def ridge_regression_closed_form(feature_matrix,target,l2_penalty):\n",
    "    I = np.identity(feature_matrix.shape[1])\n",
    "    I[0][0]=0\n",
    "    weights = np.matmul(np.linalg.inv(np.matmul(np.transpose(feature_matrix),feature_matrix)+l2_penalty*I),\\\n",
    "                        np.matmul(np.transpose(feature_matrix),target))\n",
    "    return(weights)"
   ]
  },
  {
   "cell_type": "code",
   "execution_count": 6,
   "metadata": {},
   "outputs": [],
   "source": [
    "def dataframe_prepare(dataframe,features,target):\n",
    "    dataframe[\"constant\"]=1\n",
    "    one_padded_features=[\"constant\"]\n",
    "    one_padded_features.extend(features)\n",
    "    X = dataframe[one_padded_features].values\n",
    "    Y = dataframe[target].values\n",
    "    return X,Y"
   ]
  },
  {
   "cell_type": "code",
   "execution_count": 7,
   "metadata": {},
   "outputs": [],
   "source": [
    "def predict_outcome(feature_matrix, weights):\n",
    "    predictions = np.matmul(feature_matrix,weights)\n",
    "    return(predictions)"
   ]
  },
  {
   "cell_type": "code",
   "execution_count": 8,
   "metadata": {},
   "outputs": [
    {
     "name": "stdout",
     "output_type": "stream",
     "text": [
      "The small-penalty weights from ridge gradient descent are: \n",
      "[[-9.99999771e+04]\n",
      " [ 2.45183819e+02]\n",
      " [ 6.51587638e+01]]\n",
      "The small-penalty weights from ridge closed form solution are: \n",
      "[[-1.00262175e+05]\n",
      " [ 2.45188714e+02]\n",
      " [ 6.52715852e+01]]\n"
     ]
    }
   ],
   "source": [
    "simple_features = ['sqft_living', 'sqft_living15']\n",
    "X_train,Y_train=dataframe_prepare(df_train_ridge,simple_features,['price'])\n",
    "X_test,Y_test=dataframe_prepare(df_test_ridge,simple_features,['price'])\n",
    "initial_weights = np.array([[-100000.], [0.], [0.]])\n",
    "step_size = 1e-12\n",
    "max_iterations= 10000\n",
    "\n",
    "multiple_weights_small_penalty = ridge_regression_gradient_descent(X_train, Y_train, initial_weights=initial_weights,\\\n",
    "                                            step_size=step_size, l2_penalty=1.5e-5, max_iterations=max_iterations)\n",
    "print(\"The small-penalty weights from ridge gradient descent are: \")\n",
    "print(multiple_weights_small_penalty)\n",
    "\n",
    "weights_closed = ridge_regression_closed_form(X_train, Y_train,l2_penalty=1.5e-5)\n",
    "print(\"The small-penalty weights from ridge closed form solution are: \")\n",
    "print(weights_closed)\n"
   ]
  },
  {
   "cell_type": "markdown",
   "metadata": {},
   "source": [
    "#### Verify with Scikit Learn"
   ]
  },
  {
   "cell_type": "code",
   "execution_count": 9,
   "metadata": {},
   "outputs": [
    {
     "data": {
      "text/plain": [
       "Ridge(alpha=1.5e-05, copy_X=True, fit_intercept=True, max_iter=10000,\n",
       "   normalize=True, random_state=None, solver='auto', tol=None)"
      ]
     },
     "execution_count": 9,
     "metadata": {},
     "output_type": "execute_result"
    }
   ],
   "source": [
    "l2_small_penalty = 1.5e-5\n",
    "model = linear_model.Ridge(alpha=l2_small_penalty,max_iter=10000,tol=None, normalize=True)\n",
    "model.fit(X_train, Y_train)"
   ]
  },
  {
   "cell_type": "code",
   "execution_count": 10,
   "metadata": {},
   "outputs": [
    {
     "data": {
      "text/plain": [
       "array([-100259.76546574])"
      ]
     },
     "execution_count": 10,
     "metadata": {},
     "output_type": "execute_result"
    }
   ],
   "source": [
    "model.intercept_"
   ]
  },
  {
   "cell_type": "code",
   "execution_count": 11,
   "metadata": {},
   "outputs": [
    {
     "data": {
      "text/plain": [
       "array([[  0.        , 245.18141126,  65.27802084]])"
      ]
     },
     "execution_count": 11,
     "metadata": {},
     "output_type": "execute_result"
    }
   ],
   "source": [
    "model.coef_"
   ]
  },
  {
   "cell_type": "markdown",
   "metadata": {},
   "source": [
    "#### Explore 0-penalty and infinity-penalty effects"
   ]
  },
  {
   "cell_type": "code",
   "execution_count": 12,
   "metadata": {},
   "outputs": [
    {
     "name": "stdout",
     "output_type": "stream",
     "text": [
      "The 0-penalty weights from ridge gradient descent are: \n",
      "[[-9.99999771e+04]\n",
      " [ 2.45183819e+02]\n",
      " [ 6.51587638e+01]]\n",
      "The 0-penalty weights from ridge closed form solution are: \n",
      "[[-1.00262175e+05]\n",
      " [ 2.45188714e+02]\n",
      " [ 6.52715852e+01]]\n",
      "The high-penalty weights from ridge gradient descent are: \n",
      "[[-9.99169711e+04]\n",
      " [ 1.04826258e+02]\n",
      " [ 9.19077002e+01]]\n",
      "The high-penalty weights from ridge closed form solution are: \n",
      "[[4.25149484e+05]\n",
      " [3.47447641e+01]\n",
      " [2.11214072e+01]]\n"
     ]
    }
   ],
   "source": [
    "multiple_weights_0_penalty = ridge_regression_gradient_descent(X_train, Y_train, initial_weights=initial_weights,\\\n",
    "                                            step_size=step_size, l2_penalty=0, max_iterations=max_iterations)\n",
    "print(\"The 0-penalty weights from ridge gradient descent are: \")\n",
    "print(multiple_weights_0_penalty)\n",
    "\n",
    "weights_closed = ridge_regression_closed_form(X_train, Y_train,l2_penalty=0)\n",
    "print(\"The 0-penalty weights from ridge closed form solution are: \")\n",
    "print(weights_closed)\n",
    "\n",
    "multiple_weights_high_penalty = ridge_regression_gradient_descent(X_train, Y_train, initial_weights=initial_weights,\\\n",
    "                                            step_size=step_size, l2_penalty=1e11, max_iterations=max_iterations)\n",
    "print(\"The high-penalty weights from ridge gradient descent are: \")\n",
    "print(multiple_weights_high_penalty)\n",
    "\n",
    "weights_closed = ridge_regression_closed_form(X_train, Y_train,l2_penalty=1e11)\n",
    "print(\"The high-penalty weights from ridge closed form solution are: \")\n",
    "print(weights_closed)"
   ]
  },
  {
   "cell_type": "code",
   "execution_count": 13,
   "metadata": {},
   "outputs": [
    {
     "data": {
      "text/plain": [
       "[<matplotlib.lines.Line2D at 0x10b3d6898>,\n",
       " <matplotlib.lines.Line2D at 0x10b3d6b38>,\n",
       " <matplotlib.lines.Line2D at 0x10b3d6f98>]"
      ]
     },
     "execution_count": 13,
     "metadata": {},
     "output_type": "execute_result"
    },
    {
     "data": {
      "image/png": "[encoded data removed]",
      "text/plain": [
       "<matplotlib.figure.Figure at 0x1070cf588>"
      ]
     },
     "metadata": {},
     "output_type": "display_data"
    }
   ],
   "source": [
    "plt.plot(X_train[:,1],Y_train,'k.',\n",
    "        X_train[:,1],predict_outcome(X_train, multiple_weights_0_penalty),'b.',\n",
    "        X_train[:,1],predict_outcome(X_train, multiple_weights_high_penalty),'r.')"
   ]
  },
  {
   "cell_type": "markdown",
   "metadata": {},
   "source": [
    "# k-fold cross validation to find l2-penalty"
   ]
  },
  {
   "cell_type": "code",
   "execution_count": 14,
   "metadata": {},
   "outputs": [],
   "source": [
    "def k_fold_cross_validation(k, l2_penalty, data, output,features=False,degree=False):\n",
    "    N = len(data)\n",
    "    RSS_list=[]\n",
    "    for i in range(k):\n",
    "        #get the fold splits for the current iteration\n",
    "        start = int(np.ceil((N*i)/k))\n",
    "        end = int(np.ceil((N*(i+1))/k-1))\n",
    "        training_data = data[0:start].append(data[end+1:N])\n",
    "        validation_data = data[start:end+1]\n",
    "        training_target = output[0:start].append(output[end+1:N])\n",
    "        validation_target= output[start:end+1]\n",
    "        \n",
    "        #training on training split\n",
    "        model = linear_model.Ridge(alpha=l2_penalty, normalize=True)\n",
    "        if (features):\n",
    "            model.fit(training_data[features], training_target)\n",
    "        else:\n",
    "            model.fit(training_data, training_target)\n",
    "        \n",
    "        #RSS on validation split\n",
    "        validation_data.loc[:,'price']=validation_target\n",
    "        if(degree):\n",
    "            features = [\"power_\"+str(i) for i in range(1,degree+1)] \n",
    "        X,Y=dataframe_prepare(dataframe=validation_data,features=features,target=['price'])\n",
    "        weights = np.concatenate((np.array([model.intercept_]), model.coef_),axis=0).reshape(-1,1) #merging intercept and coeffs\n",
    "        RSS = compute_RSS(X,Y,weights)\n",
    "        RSS_list.append(RSS)\n",
    "    return RSS_list,np.mean(RSS_list)"
   ]
  },
  {
   "cell_type": "code",
   "execution_count": 15,
   "metadata": {},
   "outputs": [],
   "source": [
    "def compute_RSS(X,y,w):\n",
    "    RSS = np.matmul(np.transpose(y-predict_outcome(X,w)),y-predict_outcome(X,w))\n",
    "    return RSS"
   ]
  },
  {
   "cell_type": "code",
   "execution_count": 16,
   "metadata": {},
   "outputs": [
    {
     "name": "stderr",
     "output_type": "stream",
     "text": [
      "/Users/raiyanabdulbaten/Dropbox/ROC/handson-ml/my_codes/env/lib/python3.6/site-packages/pandas/core/indexing.py:537: SettingWithCopyWarning: \n",
      "A value is trying to be set on a copy of a slice from a DataFrame.\n",
      "Try using .loc[row_indexer,col_indexer] = value instead\n",
      "\n",
      "See the caveats in the documentation: http://pandas.pydata.org/pandas-docs/stable/indexing.html#indexing-view-versus-copy\n",
      "  self.obj[item] = s\n",
      "/Users/raiyanabdulbaten/Dropbox/ROC/handson-ml/my_codes/env/lib/python3.6/site-packages/ipykernel_launcher.py:2: SettingWithCopyWarning: \n",
      "A value is trying to be set on a copy of a slice from a DataFrame.\n",
      "Try using .loc[row_indexer,col_indexer] = value instead\n",
      "\n",
      "See the caveats in the documentation: http://pandas.pydata.org/pandas-docs/stable/indexing.html#indexing-view-versus-copy\n",
      "  \n"
     ]
    },
    {
     "name": "stdout",
     "output_type": "stream",
     "text": [
      "Best l2-penalty based on lowest RSS:0.003019951720402013\n",
      "Weights of final model: \n",
      "-99770.3868120372\n",
      "[243.73362872  66.54793933]\n",
      "Test set RSS with the best l2-penalty: [[2.7020516e+14]]\n"
     ]
    }
   ],
   "source": [
    "df_train_ridge_shuffled = shuffle(df_train_ridge)\n",
    "features = ['sqft_living', 'sqft_living15'] \n",
    "mean_RSS_list=[]\n",
    "\n",
    "#get best l2-penalty using 10-fold cross validation\n",
    "l2 = np.logspace(-9, 9, num=26)\n",
    "for l2_penalty in l2:\n",
    "    _ , mean_RSS = k_fold_cross_validation(k=10, l2_penalty=l2_penalty, data=df_train_ridge_shuffled, output=df_train_ridge_shuffled[\"price\"],features=['sqft_living', 'sqft_living15'],degree=False)\n",
    "    #print(mean_RSS)\n",
    "    mean_RSS_list.append(mean_RSS)\n",
    "\n",
    "val, idx = min((val, idx) for (idx, val) in enumerate(mean_RSS_list))\n",
    "print(\"Best l2-penalty based on lowest RSS:\"+str(l2[idx]))\n",
    "\n",
    "#training new model using best l2-penalty\n",
    "model = linear_model.Ridge(alpha=l2[idx], normalize=True)\n",
    "model.fit(df_train_ridge_shuffled[features], df_train_ridge_shuffled[\"price\"])\n",
    "print(\"Weights of final model: \")\n",
    "print(model.intercept_)\n",
    "print(model.coef_)\n",
    "\n",
    "#testing on test set\n",
    "\n",
    "X_test,Y_test=dataframe_prepare(dataframe=df_test_ridge,features=features,target=['price'])\n",
    "weights = np.concatenate((np.array([model.intercept_]), model.coef_),axis=0).reshape(-1,1)\n",
    "test_RSS = compute_RSS(X_test,Y_test,weights)\n",
    "print(\"Test set RSS with the best l2-penalty: \"+str(test_RSS))"
   ]
  },
  {
   "cell_type": "markdown",
   "metadata": {},
   "source": [
    "## Revisiting the polynomial regression problem with k-fold CV\n",
    "Please refer to the polynomial regression code in the file 'Linear Regression Basics'. Here a maximum polynomial degree of 15 is used (which performed horribly without regularization). Using l2-penalty, the performance is improved."
   ]
  },
  {
   "cell_type": "code",
   "execution_count": 17,
   "metadata": {},
   "outputs": [],
   "source": [
    "train_valid_shuffled = load_csv_data(\"data\",\"wk3_kc_house_train_valid_shuffled\",dtype_dict)\n",
    "test = load_csv_data(\"data\",\"wk3_kc_house_test_data\",dtype_dict)"
   ]
  },
  {
   "cell_type": "code",
   "execution_count": 18,
   "metadata": {},
   "outputs": [],
   "source": [
    "def polynomial_dataframe(feature, degree):\n",
    "    poly_dataframe = pd.DataFrame()\n",
    "    poly_dataframe[\"power_1\"] = feature\n",
    "    if degree > 1:\n",
    "        for power in range(2, degree+1):\n",
    "            name = 'power_' + str(power)\n",
    "            poly_dataframe[name] = feature.apply(lambda x: x**power)\n",
    "    return poly_dataframe"
   ]
  },
  {
   "cell_type": "code",
   "execution_count": 19,
   "metadata": {},
   "outputs": [
    {
     "name": "stderr",
     "output_type": "stream",
     "text": [
      "/Users/raiyanabdulbaten/Dropbox/ROC/handson-ml/my_codes/env/lib/python3.6/site-packages/pandas/core/indexing.py:357: SettingWithCopyWarning: \n",
      "A value is trying to be set on a copy of a slice from a DataFrame.\n",
      "Try using .loc[row_indexer,col_indexer] = value instead\n",
      "\n",
      "See the caveats in the documentation: http://pandas.pydata.org/pandas-docs/stable/indexing.html#indexing-view-versus-copy\n",
      "  self.obj[key] = _infer_fill_value(value)\n",
      "/Users/raiyanabdulbaten/Dropbox/ROC/handson-ml/my_codes/env/lib/python3.6/site-packages/pandas/core/indexing.py:621: SettingWithCopyWarning: \n",
      "A value is trying to be set on a copy of a slice from a DataFrame.\n",
      "Try using .loc[row_indexer,col_indexer] = value instead\n",
      "\n",
      "See the caveats in the documentation: http://pandas.pydata.org/pandas-docs/stable/indexing.html#indexing-view-versus-copy\n",
      "  self.obj[item_labels[indexer[info_axis]]] = value\n",
      "/Users/raiyanabdulbaten/Dropbox/ROC/handson-ml/my_codes/env/lib/python3.6/site-packages/ipykernel_launcher.py:2: SettingWithCopyWarning: \n",
      "A value is trying to be set on a copy of a slice from a DataFrame.\n",
      "Try using .loc[row_indexer,col_indexer] = value instead\n",
      "\n",
      "See the caveats in the documentation: http://pandas.pydata.org/pandas-docs/stable/indexing.html#indexing-view-versus-copy\n",
      "  \n"
     ]
    },
    {
     "name": "stdout",
     "output_type": "stream",
     "text": [
      "Best l2-penalty based on lowest RSS:0.08317637711026708\n",
      "Test set RSS with the best l2-penalty: [[1.37392658e+14]]\n"
     ]
    }
   ],
   "source": [
    "degree=15\n",
    "poly15_data = polynomial_dataframe(train_valid_shuffled['sqft_living'], degree)\n",
    "mean_RSS_list=[]\n",
    "\n",
    "#get best l2-penalty using 10-fold cross validation\n",
    "l2 = np.logspace(-9, 9, num=26)\n",
    "for l2_penalty in l2:\n",
    "    _ , mean_RSS = k_fold_cross_validation(k=10, l2_penalty=l2_penalty, data=poly15_data, output=train_valid_shuffled[\"price\"],features=False,degree=degree)\n",
    "    #print(mean_RSS)\n",
    "    mean_RSS_list.append(mean_RSS)\n",
    "\n",
    "val, idx = min((val, idx) for (idx, val) in enumerate(mean_RSS_list))\n",
    "print(\"Best l2-penalty based on lowest RSS:\"+str(l2[idx]))\n",
    "\n",
    "#training new model using best l2-penalty\n",
    "model = linear_model.Ridge(alpha=l2[idx], normalize=True)\n",
    "model.fit(poly15_data, train_valid_shuffled[\"price\"])\n",
    "\n",
    "#testing on test set\n",
    "poly15_test = polynomial_dataframe(test['sqft_living'], degree)\n",
    "poly15_test['price']=test['price']\n",
    "features = [\"power_\"+str(i) for i in range(1,degree+1)] \n",
    "X_test,Y_test=dataframe_prepare(dataframe=poly15_test,features=features,target=['price'])\n",
    "weights = np.concatenate((np.array([model.intercept_]), model.coef_),axis=0).reshape(-1,1)\n",
    "test_RSS = compute_RSS(X_test,Y_test,weights)\n",
    "print(\"Test set RSS with the best l2-penalty: \"+str(test_RSS))"
   ]
  }
 ],
 "metadata": {
  "kernelspec": {
   "display_name": "Python 3",
   "language": "python",
   "name": "python3"
  },
  "language_info": {
   "codemirror_mode": {
    "name": "ipython",
    "version": 3
   },
   "file_extension": ".py",
   "mimetype": "text/x-python",
   "name": "python",
   "nbconvert_exporter": "python",
   "pygments_lexer": "ipython3",
   "version": "3.6.3"
  }
 },
 "nbformat": 4,
 "nbformat_minor": 2
}
